{
 "cells": [
  {
   "cell_type": "code",
   "execution_count": null,
   "id": "e3b2e910",
   "metadata": {},
   "outputs": [
    {
     "ename": "",
     "evalue": "",
     "output_type": "error",
     "traceback": [
      "\u001b[1;31mFailed to start the Kernel. \n",
      "\u001b[1;31mUnable to start Kernel 'base (Python 3.8.8)' due to connection timeout. \n",
      "\u001b[1;31mView Jupyter <a href='command:jupyter.viewOutput'>log</a> for further details."
     ]
    }
   ],
   "source": [
    "import numpy as np\n",
    "from scipy import spatial\n",
    "import pandas as pd\n",
    "import matplotlib.pyplot as plt\n",
    "from sko.ACA import ACA_TSP\n",
    "from sko.GA import GA_TSP\n",
    "import time\n",
    "from math import radians, cos, sin, asin, sqrt"
   ]
  },
  {
   "cell_type": "code",
   "execution_count": null,
   "id": "4dbed488",
   "metadata": {},
   "outputs": [],
   "source": [
    "num_points = 10\n",
    "points_coordinate = np.random.rand(num_points, 2)  # generate coordinate of points\n",
    "distance_matrix = spatial.distance.cdist(points_coordinate, points_coordinate, metric='euclidean')"
   ]
  },
  {
   "cell_type": "code",
   "execution_count": null,
   "id": "587041c0",
   "metadata": {},
   "outputs": [],
   "source": [
    "def cal_total_distance(routine):\n",
    "    num_points, = routine.shape\n",
    "    return sum([distance_matrix[routine[i % num_points], routine[(i + 1) % num_points]] for i in range(num_points)])"
   ]
  },
  {
   "cell_type": "code",
   "execution_count": null,
   "id": "6d3b223a",
   "metadata": {},
   "outputs": [],
   "source": [
    "# Calculates distance between two coordinates\n",
    "def distance(lat1, long1, lat2, long2):\n",
    "     \n",
    "    # Converts decimal degrees to radians\n",
    "    long1 = radians(long1)\n",
    "    long2 = radians(long2)\n",
    "    lat1 = radians(lat1)\n",
    "    lat2 = radians(lat2)\n",
    "\n",
    "    # Radius of earth in miles\n",
    "    r = 3956\n",
    "      \n",
    "    # Haversine formula\n",
    "    h = sin((lat2 - lat1)/ 2)**2 + cos(lat1) * cos(lat2) * sin((long2 - long1)/ 2)**2\n",
    " \n",
    "    dist = 2 * r * asin(sqrt(h))\n",
    "\n",
    "    return dist\n",
    "    \n",
    "# test code\n",
    "lat1 = 53.32055555555556\n",
    "lat2 = 53.31861111111111\n",
    "long1 = -1.7297222222222221\n",
    "long2 =  -1.6997222222222223\n",
    "print(distance(lat1, lat2, long1, long2), \"miles\")"
   ]
  },
  {
   "cell_type": "code",
   "execution_count": null,
   "id": "84d1ed0d",
   "metadata": {},
   "outputs": [],
   "source": [
    "aca = ACA_TSP(func=cal_total_distance, n_dim=num_points,\n",
    "                  size_pop=num_points, max_iter=10,\n",
    "                  distance_matrix=distance_matrix)\n",
    "\n",
    "best_x, best_y = aca.run()\n",
    "\n",
    "# Plot the result\n",
    "fig, ax = plt.subplots(1, 2)\n",
    "best_points_ = np.concatenate([best_x, [best_x[0]]])\n",
    "best_points_coordinate = points_coordinate[best_points_, :]\n",
    "for index in range(0, len(best_points_)):\n",
    "    ax[0].annotate(best_points_[index], (best_points_coordinate[index, 0], best_points_coordinate[index, 1]))\n",
    "ax[0].plot(best_points_coordinate[:, 0], best_points_coordinate[:, 1], 'o-r')\n",
    "pd.DataFrame(aca.y_best_history).cummin().plot(ax=ax[1])\n",
    "plt.show()"
   ]
  },
  {
   "cell_type": "markdown",
   "id": "ca5948f7",
   "metadata": {},
   "source": [
    "## How differently does ACO perform run to run?"
   ]
  },
  {
   "cell_type": "code",
   "execution_count": 12,
   "id": "b0357735",
   "metadata": {},
   "outputs": [
    {
     "data": {
      "image/png": "[encoded data removed]",
      "text/plain": [
       "<Figure size 432x288 with 1 Axes>"
      ]
     },
     "metadata": {
      "needs_background": "light"
     },
     "output_type": "display_data"
    }
   ],
   "source": [
    "fig, ax = plt.subplots(1, 1)\n",
    "for i in range(10):\n",
    "\n",
    "    aca = ACA_TSP(func=cal_total_distance, n_dim=num_points,\n",
    "                  size_pop=10, max_iter=50,\n",
    "                  distance_matrix=distance_matrix)\n",
    "\n",
    "    best_x, best_y = aca.run()\n",
    "    pd.DataFrame(aca.y_best_history).cummin().plot(ax=ax)\n",
    "    \n"
   ]
  },
  {
   "cell_type": "markdown",
   "id": "7e4338fd",
   "metadata": {},
   "source": [
    "## How does ACO compare to GA on TSP?"
   ]
  },
  {
   "cell_type": "code",
   "execution_count": 15,
   "id": "8a51586f",
   "metadata": {},
   "outputs": [
    {
     "name": "stdout",
     "output_type": "stream",
     "text": [
      "ACO Distance: 6.493865720562726\n",
      "Time elapsed: 11.395240068435669\n",
      "GA Distance:  6.89225144366162\n",
      "GA Time elapsed: 2.2557477951049805\n"
     ]
    }
   ],
   "source": [
    "num_points = 50\n",
    "points_coordinate = np.random.rand(num_points, 2)  # generate coordinate of points\n",
    "distance_matrix = spatial.distance.cdist(points_coordinate, points_coordinate, metric='euclidean')\n",
    "\n",
    "aca_start = time.time()\n",
    "aca = ACA_TSP(func=cal_total_distance, n_dim=num_points,\n",
    "                  size_pop=num_points, max_iter=100,\n",
    "                  distance_matrix=distance_matrix)\n",
    "\n",
    "best_x, best_y = aca.run()\n",
    "aca_stop = time.time()\n",
    "print(\"ACO Distance:\", best_y)\n",
    "print(\"Time elapsed:\", aca_stop-aca_start)\n",
    "\n",
    "ga_start = time.time()\n",
    "ga_tsp = GA_TSP(func=cal_total_distance, n_dim=num_points, size_pop=50, max_iter=500, prob_mut=1)\n",
    "\n",
    "best_points, best_distance = ga_tsp.run()\n",
    "ga_stop = time.time()\n",
    "print(\"GA Distance: \", best_distance[0])\n",
    "print(\"GA Time elapsed:\", ga_stop-ga_start)\n"
   ]
  },
  {
   "cell_type": "code",
   "execution_count": null,
   "id": "d0944195",
   "metadata": {},
   "outputs": [],
   "source": []
  },
  {
   "cell_type": "code",
   "execution_count": null,
   "id": "176bd147",
   "metadata": {},
   "outputs": [],
   "source": []
  }
 ],
 "metadata": {
  "kernelspec": {
   "display_name": "Python 3",
   "language": "python",
   "name": "python3"
  },
  "language_info": {
   "codemirror_mode": {
    "name": "ipython",
    "version": 3
   },
   "file_extension": ".py",
   "mimetype": "text/x-python",
   "name": "python",
   "nbconvert_exporter": "python",
   "pygments_lexer": "ipython3",
   "version": "3.8.8"
  }
 },
 "nbformat": 4,
 "nbformat_minor": 5
}
